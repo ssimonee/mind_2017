{
 "cells": [
  {
   "cell_type": "code",
   "execution_count": null,
   "metadata": {},
   "outputs": [],
   "source": [
    "dataroot=r'DataFilePath'\n",
    "\n",
    "import os\n",
    "filename = os.path.join(dataroot,'DataFile')\n",
    "\n",
    "import nelpy as nel\n",
    "import nelpy.io\n",
    "jar = nel.load_pkl(filename)"
   ]
  },
  {
   "cell_type": "markdown",
   "metadata": {},
   "source": [
    "Running the above gives `ModuleNotFoundError: No module named 'nelpy.core._accessors'` as below:\n",
    "\n",
    "***\n",
    "`\n",
    "ModuleNotFoundError                       Traceback (most recent call last)\n",
    "<ipython-input-7-de3be835c693> in <module>\n",
    "      6 import nelpy as nel\n",
    "      7 import nelpy.io\n",
    "----> 8 jar = nel.load_pkl(filename)\n",
    "\n",
    "\\LocalPath\\nelpy\\auxiliary\\_results.py in load_pkl(fname, zip)\n",
    "    130         try:\n",
    "    131             with gzip.open(fname, \"rb\") as fid:\n",
    "--> 132                 res = pickle.load(fid)\n",
    "    133         except OSError:\n",
    "    134             # most likely, results were not saved using zip=True, so let's try\n",
    "\n",
    "\\LocalPath\\dill\\_dill.py in load(file, ignore)\n",
    "    303     # apply kwd settings\n",
    "    304     pik._ignore = bool(ignore)\n",
    "--> 305     obj = pik.load()\n",
    "    306     if type(obj).__module__ == getattr(_main_module, '__name__', '__main__'):\n",
    "    307         if not ignore:\n",
    "\n",
    "\\LocalPath\\dill\\_dill.py in find_class(self, module, name)\n",
    "    472             return type(None) #XXX: special case: NoneType missing\n",
    "    473         if module == 'dill.dill': module = 'dill._dill'\n",
    "--> 474         return StockUnpickler.find_class(self, module, name)\n",
    "    475 \n",
    "    476     def __init__(self, *args, **kwds):\n",
    "\n",
    "\n",
    "ModuleNotFoundError: No module named 'nelpy.core._accessors'\n",
    "`\n",
    "***\n",
    "\n",
    "Notes:\n",
    "-have checked packages/dependencies installed correctly\n",
    "-no error when line 8 (`jar =...`) is commented out\n",
    "-as far as I can tell it's looking for a .\\_accessors file under the nelpy/core folder, but there isn't one there, is this correct?\n",
    "\n",
    "Apologies if there's something simple I'm overlooking, I'm still getting used to python. Thanks in advance.\n",
    "\n",
    "\n",
    "\n",
    "\n"
   ]
  }
 ],
 "metadata": {
  "kernelspec": {
   "display_name": "Python 3",
   "language": "python",
   "name": "python3"
  },
  "language_info": {
   "codemirror_mode": {
    "name": "ipython",
    "version": 3
   },
   "file_extension": ".py",
   "mimetype": "text/x-python",
   "name": "python",
   "nbconvert_exporter": "python",
   "pygments_lexer": "ipython3",
   "version": "3.7.3"
  }
 },
 "nbformat": 4,
 "nbformat_minor": 2
}
